{
 "cells": [
  {
   "cell_type": "code",
   "execution_count": null,
   "metadata": {},
   "outputs": [],
   "source": [
    "import os, sys\n",
    "sys.path.append(os.path.abspath(os.path.join(os.getcwd(),'..')))"
   ]
  },
  {
   "cell_type": "code",
   "execution_count": null,
   "metadata": {},
   "outputs": [],
   "source": [
    "from utilities_py.equation_utils import *\n",
    "from utilities_py.fileio_utils import *\n",
    "from utilities_py.log_utils import *\n",
    "from utilities_py.misc_utils import *\n",
    "from utilities_py.pandas_utils import *\n",
    "from utilities_py.plt_utils import *\n",
    "from utilities_py.polynomial_utils import *\n",
    "from utilities_py.time_utils import *"
   ]
  }
 ],
 "metadata": {
  "language_info": {
   "name": "python"
  }
 },
 "nbformat": 4,
 "nbformat_minor": 2
}
